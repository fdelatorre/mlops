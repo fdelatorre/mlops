{
 "cells": [
  {
   "cell_type": "raw",
   "metadata": {},
   "source": [
    "# Instalando librerias"
   ]
  },
  {
   "cell_type": "markdown",
   "metadata": {},
   "source": [
    "pip install scikit-learn\n",
    "pip install pandas\n",
    "pip install numpy\n",
    "pip install -U imbalanced-learn\n",
    "pip install pickle\n",
    "pip install seaborn\n",
    "pip install -U matplotlib"
   ]
  },
  {
   "cell_type": "code",
   "execution_count": null,
   "metadata": {},
   "outputs": [],
   "source": [
    "# Modelo para detectar si un tumor es maligno o no, en base a sus atributos o caracteristicas.\n",
    "# Leyendo os datos"
   ]
  },
  {
   "cell_type": "code",
   "execution_count": 1,
   "metadata": {},
   "outputs": [
    {
     "data": {
      "text/html": [
       "<div>\n",
       "<style scoped>\n",
       "    .dataframe tbody tr th:only-of-type {\n",
       "        vertical-align: middle;\n",
       "    }\n",
       "\n",
       "    .dataframe tbody tr th {\n",
       "        vertical-align: top;\n",
       "    }\n",
       "\n",
       "    .dataframe thead th {\n",
       "        text-align: right;\n",
       "    }\n",
       "</style>\n",
       "<table border=\"1\" class=\"dataframe\">\n",
       "  <thead>\n",
       "    <tr style=\"text-align: right;\">\n",
       "      <th></th>\n",
       "      <th>mean radius</th>\n",
       "      <th>mean texture</th>\n",
       "    </tr>\n",
       "  </thead>\n",
       "  <tbody>\n",
       "    <tr>\n",
       "      <th>0</th>\n",
       "      <td>17.99</td>\n",
       "      <td>10.38</td>\n",
       "    </tr>\n",
       "    <tr>\n",
       "      <th>1</th>\n",
       "      <td>20.57</td>\n",
       "      <td>17.77</td>\n",
       "    </tr>\n",
       "    <tr>\n",
       "      <th>2</th>\n",
       "      <td>19.69</td>\n",
       "      <td>21.25</td>\n",
       "    </tr>\n",
       "    <tr>\n",
       "      <th>3</th>\n",
       "      <td>11.42</td>\n",
       "      <td>20.38</td>\n",
       "    </tr>\n",
       "    <tr>\n",
       "      <th>4</th>\n",
       "      <td>20.29</td>\n",
       "      <td>14.34</td>\n",
       "    </tr>\n",
       "    <tr>\n",
       "      <th>...</th>\n",
       "      <td>...</td>\n",
       "      <td>...</td>\n",
       "    </tr>\n",
       "    <tr>\n",
       "      <th>564</th>\n",
       "      <td>21.56</td>\n",
       "      <td>22.39</td>\n",
       "    </tr>\n",
       "    <tr>\n",
       "      <th>565</th>\n",
       "      <td>20.13</td>\n",
       "      <td>28.25</td>\n",
       "    </tr>\n",
       "    <tr>\n",
       "      <th>566</th>\n",
       "      <td>16.60</td>\n",
       "      <td>28.08</td>\n",
       "    </tr>\n",
       "    <tr>\n",
       "      <th>567</th>\n",
       "      <td>20.60</td>\n",
       "      <td>29.33</td>\n",
       "    </tr>\n",
       "    <tr>\n",
       "      <th>568</th>\n",
       "      <td>7.76</td>\n",
       "      <td>24.54</td>\n",
       "    </tr>\n",
       "  </tbody>\n",
       "</table>\n",
       "<p>569 rows × 2 columns</p>\n",
       "</div>"
      ],
      "text/plain": [
       "     mean radius  mean texture\n",
       "0          17.99         10.38\n",
       "1          20.57         17.77\n",
       "2          19.69         21.25\n",
       "3          11.42         20.38\n",
       "4          20.29         14.34\n",
       "..           ...           ...\n",
       "564        21.56         22.39\n",
       "565        20.13         28.25\n",
       "566        16.60         28.08\n",
       "567        20.60         29.33\n",
       "568         7.76         24.54\n",
       "\n",
       "[569 rows x 2 columns]"
      ]
     },
     "execution_count": 1,
     "metadata": {},
     "output_type": "execute_result"
    }
   ],
   "source": [
    "#Paquetes para lectura y recuento\n",
    "from sklearn.datasets import load_breast_cancer\n",
    "import pandas as pd\n",
    "\n",
    "#Primero importamos los datos que vamos a leer\n",
    "cancer_data = load_breast_cancer()\n",
    "\n",
    "#Pasamos los datos a un DataFrame (datos en pandas)\n",
    "data = pd.DataFrame(cancer_data['data'], columns = cancer_data['feature_names'])\n",
    "target = pd.DataFrame(cancer_data['target'],columns = ['Tumor Type'])\n",
    "\n",
    "#Si quisieramos coger solo unas características, en este caso 2\n",
    "data = data[['mean radius', 'mean texture']] \n",
    "data"
   ]
  },
  {
   "cell_type": "code",
   "execution_count": 2,
   "metadata": {},
   "outputs": [
    {
     "data": {
      "text/html": [
       "<div>\n",
       "<style scoped>\n",
       "    .dataframe tbody tr th:only-of-type {\n",
       "        vertical-align: middle;\n",
       "    }\n",
       "\n",
       "    .dataframe tbody tr th {\n",
       "        vertical-align: top;\n",
       "    }\n",
       "\n",
       "    .dataframe thead th {\n",
       "        text-align: right;\n",
       "    }\n",
       "</style>\n",
       "<table border=\"1\" class=\"dataframe\">\n",
       "  <thead>\n",
       "    <tr style=\"text-align: right;\">\n",
       "      <th></th>\n",
       "      <th>mean radius</th>\n",
       "      <th>mean texture</th>\n",
       "    </tr>\n",
       "  </thead>\n",
       "  <tbody>\n",
       "    <tr>\n",
       "      <th>0</th>\n",
       "      <td>17.990000</td>\n",
       "      <td>10.380000</td>\n",
       "    </tr>\n",
       "    <tr>\n",
       "      <th>1</th>\n",
       "      <td>20.570000</td>\n",
       "      <td>17.770000</td>\n",
       "    </tr>\n",
       "    <tr>\n",
       "      <th>2</th>\n",
       "      <td>19.690000</td>\n",
       "      <td>21.250000</td>\n",
       "    </tr>\n",
       "    <tr>\n",
       "      <th>3</th>\n",
       "      <td>11.420000</td>\n",
       "      <td>20.380000</td>\n",
       "    </tr>\n",
       "    <tr>\n",
       "      <th>4</th>\n",
       "      <td>20.290000</td>\n",
       "      <td>14.340000</td>\n",
       "    </tr>\n",
       "    <tr>\n",
       "      <th>...</th>\n",
       "      <td>...</td>\n",
       "      <td>...</td>\n",
       "    </tr>\n",
       "    <tr>\n",
       "      <th>709</th>\n",
       "      <td>17.320533</td>\n",
       "      <td>22.248192</td>\n",
       "    </tr>\n",
       "    <tr>\n",
       "      <th>710</th>\n",
       "      <td>14.658247</td>\n",
       "      <td>21.560748</td>\n",
       "    </tr>\n",
       "    <tr>\n",
       "      <th>711</th>\n",
       "      <td>13.045567</td>\n",
       "      <td>24.518637</td>\n",
       "    </tr>\n",
       "    <tr>\n",
       "      <th>712</th>\n",
       "      <td>17.863410</td>\n",
       "      <td>20.963282</td>\n",
       "    </tr>\n",
       "    <tr>\n",
       "      <th>713</th>\n",
       "      <td>14.811123</td>\n",
       "      <td>23.656006</td>\n",
       "    </tr>\n",
       "  </tbody>\n",
       "</table>\n",
       "<p>714 rows × 2 columns</p>\n",
       "</div>"
      ],
      "text/plain": [
       "     mean radius  mean texture\n",
       "0      17.990000     10.380000\n",
       "1      20.570000     17.770000\n",
       "2      19.690000     21.250000\n",
       "3      11.420000     20.380000\n",
       "4      20.290000     14.340000\n",
       "..           ...           ...\n",
       "709    17.320533     22.248192\n",
       "710    14.658247     21.560748\n",
       "711    13.045567     24.518637\n",
       "712    17.863410     20.963282\n",
       "713    14.811123     23.656006\n",
       "\n",
       "[714 rows x 2 columns]"
      ]
     },
     "execution_count": 2,
     "metadata": {},
     "output_type": "execute_result"
    }
   ],
   "source": [
    "#Importamos los paquetes de sobremuestreo\n",
    "from imblearn.over_sampling import SMOTE\n",
    "\n",
    "#SMOTE\n",
    "smote = SMOTE()\n",
    "\n",
    "#Generación de nuevas muestras sintéticas\n",
    "dataSmote, targetSmote = smote.fit_resample(data,target)\n",
    "\n",
    "#Representación\n",
    "dataSmote"
   ]
  },
  {
   "cell_type": "markdown",
   "metadata": {},
   "source": [
    "# Entrenando y evaluando los modelos - Se probo con 4 modelos"
   ]
  },
  {
   "cell_type": "markdown",
   "metadata": {},
   "source": [
    "## Modelo de Regresión logística"
   ]
  },
  {
   "cell_type": "code",
   "execution_count": 15,
   "metadata": {},
   "outputs": [],
   "source": [
    "#Importamos los paquetes\n",
    "from sklearn.linear_model import LogisticRegression\n",
    "\n",
    "#Los pasos son siempre los mismos\n",
    "#1. Inicialización.\n",
    "modelLR = LogisticRegression()\n",
    "\n",
    "#2. División de datos en conjunto de evaluación y conjunto de entrenamiento\n",
    "from sklearn.model_selection import train_test_split\n",
    "dataTrain, dataTest, targetTrain, targetTest = train_test_split(data,target, random_state = 0)\n",
    "\n",
    "#3. Entrenamiento del modelo\n",
    "modelLR.fit(dataTrain, targetTrain)\n",
    "\n",
    "#4. Predicción con el modelo\n",
    "targetPred = modelLR.predict(dataTest)\n",
    "\n",
    "#5. Muestra de resultados\n",
    "from sklearn.metrics import confusion_matrix\n",
    "import seaborn as sn\n",
    "import pandas as pd\n",
    "import matplotlib.pyplot as plt\n",
    "\n",
    "array = confusion_matrix(targetPred, targetTest)\n",
    "df_cm = pd.DataFrame(array)\n",
    "\n",
    "#Representación de la matriz de confusión\n",
    "sn.set(font_scale=1)\n",
    "plt.show(sn.heatmap(df_cm, annot=True, annot_kws={\"size\": 16}, cmap = 'Reds')) "
   ]
  },
  {
   "cell_type": "markdown",
   "metadata": {},
   "source": [
    "## Modelo de Arbol de decisión"
   ]
  },
  {
   "cell_type": "code",
   "execution_count": 16,
   "metadata": {},
   "outputs": [],
   "source": [
    "#Importamos los paquetes\n",
    "from sklearn.tree import DecisionTreeClassifier\n",
    "\n",
    "#Los pasos son siempre los mismos\n",
    "#1. Inicialización.\n",
    "modelDT = DecisionTreeClassifier()\n",
    "\n",
    "#2. División de datos en conjunto de evaluación y conjunto de entrenamiento\n",
    "from sklearn.model_selection import train_test_split\n",
    "dataTrain, dataTest, targetTrain, targetTest = train_test_split(data,target, random_state = 0)\n",
    "\n",
    "#3. Entrenamiento del modelo\n",
    "modelDT.fit(dataTrain, targetTrain)\n",
    "\n",
    "#4. Predicción con el modelo\n",
    "targetPred = modelDT.predict(dataTest)\n",
    "\n",
    "#5. Muestra de resultados\n",
    "array = confusion_matrix(targetPred, targetTest)\n",
    "df_cm = pd.DataFrame(array)\n",
    "\n",
    "#Representación de la matriz de confusión\n",
    "sn.set(font_scale=1)\n",
    "plt.show(sn.heatmap(df_cm, annot=True, annot_kws={\"size\": 16}, cmap = 'Reds')) "
   ]
  },
  {
   "cell_type": "markdown",
   "metadata": {},
   "source": [
    "## Modelo de Bosque aleatorio"
   ]
  },
  {
   "cell_type": "code",
   "execution_count": 17,
   "metadata": {},
   "outputs": [],
   "source": [
    "#Importamos los paquetes\n",
    "from sklearn.ensemble import RandomForestClassifier\n",
    "\n",
    "#Los pasos son siempre los mismos\n",
    "#1. Inicialización.\n",
    "modelRF = RandomForestClassifier()\n",
    "\n",
    "#2. División de datos en conjunto de evaluación y conjunto de entrenamiento\n",
    "from sklearn.model_selection import train_test_split\n",
    "dataTrain, dataTest, targetTrain, targetTest = train_test_split(data,target, random_state = 0)\n",
    "\n",
    "#3. Entrenamiento del modelo\n",
    "modelRF.fit(dataTrain, targetTrain)\n",
    "\n",
    "#4. Predicción con el modelo\n",
    "targetPred = modelRF.predict(dataTest)\n",
    "\n",
    "#5. Muestra de resultados\n",
    "array = confusion_matrix(targetPred, targetTest)\n",
    "df_cm = pd.DataFrame(array)\n",
    "\n",
    "#Representación de la matriz de confusión\n",
    "sn.set(font_scale=1)\n",
    "plt.show(sn.heatmap(df_cm, annot=True, annot_kws={\"size\": 16}, cmap = 'Reds')) "
   ]
  },
  {
   "cell_type": "markdown",
   "metadata": {},
   "source": [
    "## Modelo de Red neuronal MLP"
   ]
  },
  {
   "cell_type": "code",
   "execution_count": 18,
   "metadata": {},
   "outputs": [],
   "source": [
    "#Importamos los paquetes\n",
    "from sklearn.neural_network import MLPClassifier\n",
    "\n",
    "#Los pasos son siempre los mismos\n",
    "#1. Inicialización.\n",
    "modelMLP = MLPClassifier()\n",
    "\n",
    "#2. División de datos en conjunto de evaluación y conjunto de entrenamiento\n",
    "from sklearn.model_selection import train_test_split\n",
    "dataTrain, dataTest, targetTrain, targetTest = train_test_split(data,target, random_state = 0)\n",
    "\n",
    "#3. Entrenamiento del modelo\n",
    "modelMLP.fit(dataTrain, targetTrain)\n",
    "\n",
    "#4. Predicción con el modelo\n",
    "targetPred = modelMLP.predict(dataTest)\n",
    "\n",
    "#5. Muestra de resultados\n",
    "array = confusion_matrix(targetPred, targetTest)\n",
    "df_cm = pd.DataFrame(array)\n",
    "\n",
    "#Representación de la matriz de confusión\n",
    "sn.set(font_scale=1)\n",
    "plt.show(sn.heatmap(df_cm, annot=True, annot_kws={\"size\": 16}, cmap = 'Reds')) "
   ]
  },
  {
   "cell_type": "markdown",
   "metadata": {},
   "source": [
    "## Guardando los modelos"
   ]
  },
  {
   "cell_type": "code",
   "execution_count": 21,
   "metadata": {},
   "outputs": [],
   "source": [
    "#Importamos los paquetes\n",
    "import pickle\n",
    "\n",
    "#Damos el nombre al fichero\n",
    "filename = 'modelMLP.model'\n",
    "\n",
    "#Guardamos el modelo\n",
    "pickle.dump(modelMLP, open(filename, 'wb'))"
   ]
  },
  {
   "cell_type": "code",
   "execution_count": 22,
   "metadata": {},
   "outputs": [],
   "source": [
    "#Que luego puede ser recuperado para usarse en otro fichero\n",
    "modelMLP2 = pickle.load(open('modelMLP.model','rb'))\n",
    "modelMLP2 == modelMLP"
   ]
  },
  {
   "cell_type": "raw",
   "metadata": {},
   "source": []
  }
 ],
 "metadata": {
  "kernelspec": {
   "display_name": "Python 3 (ipykernel)",
   "language": "python",
   "name": "python3"
  },
  "language_info": {
   "codemirror_mode": {
    "name": "ipython",
    "version": 3
   },
   "file_extension": ".py",
   "mimetype": "text/x-python",
   "name": "python",
   "nbconvert_exporter": "python",
   "pygments_lexer": "ipython3",
   "version": "3.9.7"
  }
 },
 "nbformat": 4,
 "nbformat_minor": 4
}
